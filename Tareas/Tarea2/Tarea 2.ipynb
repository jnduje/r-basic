{
 "cells": [
  {
   "cell_type": "markdown",
   "id": "cafc8cec",
   "metadata": {},
   "source": [
    "# Tarea 2 #"
   ]
  },
  {
   "cell_type": "markdown",
   "id": "c23b8e99",
   "metadata": {},
   "source": [
    "## Ejercicio 1 ##"
   ]
  },
  {
   "cell_type": "code",
   "execution_count": 11,
   "id": "607865b5",
   "metadata": {},
   "outputs": [
    {
     "name": "stdout",
     "output_type": "stream",
     "text": [
      "Ingrese un número: -4\n"
     ]
    }
   ],
   "source": [
    "numero = int(input(\"Ingrese un número: \"))"
   ]
  },
  {
   "cell_type": "code",
   "execution_count": 12,
   "id": "5cd61b12",
   "metadata": {},
   "outputs": [
    {
     "name": "stdout",
     "output_type": "stream",
     "text": [
      "El número es negativo\n"
     ]
    }
   ],
   "source": [
    "if numero >= 0:\n",
    "    print(\"El número es positivo\")\n",
    "else:\n",
    "    print(\"El número es negativo\")"
   ]
  },
  {
   "cell_type": "markdown",
   "id": "1303b306",
   "metadata": {},
   "source": [
    "## Ejercicio 2 ##"
   ]
  },
  {
   "cell_type": "code",
   "execution_count": 19,
   "id": "6b1e465c",
   "metadata": {},
   "outputs": [
    {
     "name": "stdout",
     "output_type": "stream",
     "text": [
      "Ingrese un número: 5\n"
     ]
    }
   ],
   "source": [
    "num = int(input(\"Ingrese un número: \"))"
   ]
  },
  {
   "cell_type": "code",
   "execution_count": 20,
   "id": "e4c2f7d9",
   "metadata": {},
   "outputs": [
    {
     "name": "stdout",
     "output_type": "stream",
     "text": [
      "El número SI está en el rango entre -5 y 5\n"
     ]
    }
   ],
   "source": [
    "if num >= -5 and num <= 5:\n",
    "    print(\"El número SI está en el rango entre -5 y 5\")\n",
    "else:\n",
    "    print(\"El número NO está en el rango entre -5 y 5\")"
   ]
  },
  {
   "cell_type": "markdown",
   "id": "f7c20aa9",
   "metadata": {},
   "source": [
    "## Ejercicio 3 ##"
   ]
  },
  {
   "cell_type": "code",
   "execution_count": 3,
   "id": "5c3c938c",
   "metadata": {},
   "outputs": [],
   "source": [
    "import math"
   ]
  },
  {
   "cell_type": "code",
   "execution_count": 17,
   "id": "167c48c9",
   "metadata": {},
   "outputs": [
    {
     "name": "stdout",
     "output_type": "stream",
     "text": [
      "Ingrese el valor de x: 0\n",
      "Ingrese el valor de y: 0\n"
     ]
    }
   ],
   "source": [
    "x = int(input(\"Ingrese el valor de x: \"))\n",
    "y = int(input(\"Ingrese el valor de y: \"))"
   ]
  },
  {
   "cell_type": "code",
   "execution_count": 18,
   "id": "a829b87b",
   "metadata": {},
   "outputs": [],
   "source": [
    "angulo = math.degrees(math.atan2(y,x))"
   ]
  },
  {
   "cell_type": "code",
   "execution_count": 19,
   "id": "4e725a0b",
   "metadata": {},
   "outputs": [
    {
     "data": {
      "text/plain": [
       "0.0"
      ]
     },
     "execution_count": 19,
     "metadata": {},
     "output_type": "execute_result"
    }
   ],
   "source": [
    "angulo"
   ]
  },
  {
   "cell_type": "code",
   "execution_count": 21,
   "id": "f2e16dab",
   "metadata": {},
   "outputs": [
    {
     "name": "stdout",
     "output_type": "stream",
     "text": [
      "El punto se encuentra en el origen de coordenadas\n"
     ]
    }
   ],
   "source": [
    "if x == 0:\n",
    "    if y == 0:\n",
    "        print(\"El punto se encuentra en el origen de coordenadas\")\n",
    "    else:\n",
    "        print (\"El punto se encuentra sobre el eje vertical\")\n",
    "elif y == 0:\n",
    "    print (\"El punto se encuentra sobre el eje horizontal\")\n",
    "else:\n",
    "    if angulo >= 0 and angulo <= 90:\n",
    "        print(\"El punto se encuentra en el 1er cuadrante\")\n",
    "    elif angulo > 90 and angulo <= 180:\n",
    "        print(\"El punto se encuentra en el 2er cuadrante\")\n",
    "    elif angulo > -180 and angulo < -90:\n",
    "        print(\"El punto se encuentra en el 3er cuadrante\")\n",
    "    elif angulo > -90 and angulo < 0:\n",
    "        print(\"El punto se encuentra en el 4to cuadrante\")\n",
    "\n",
    "    "
   ]
  },
  {
   "cell_type": "markdown",
   "id": "15bd0923",
   "metadata": {},
   "source": [
    "## Ejercico 4 ##"
   ]
  },
  {
   "cell_type": "code",
   "execution_count": 30,
   "id": "6bb3add1",
   "metadata": {},
   "outputs": [
    {
     "name": "stdout",
     "output_type": "stream",
     "text": [
      "Ingrese el dividendo: 16\n",
      "Ingrese el divisor: 5\n"
     ]
    }
   ],
   "source": [
    "dividendo = int (input(\"Ingrese el dividendo: \"))\n",
    "divisor = int (input(\"Ingrese el divisor: \"))"
   ]
  },
  {
   "cell_type": "code",
   "execution_count": 31,
   "id": "0ecf8199",
   "metadata": {},
   "outputs": [],
   "source": [
    "cociente = dividendo // divisor"
   ]
  },
  {
   "cell_type": "code",
   "execution_count": 32,
   "id": "8533b9e6",
   "metadata": {},
   "outputs": [],
   "source": [
    "resto = dividendo % divisor"
   ]
  },
  {
   "cell_type": "code",
   "execution_count": 33,
   "id": "06ccb9d5",
   "metadata": {},
   "outputs": [
    {
     "name": "stdout",
     "output_type": "stream",
     "text": [
      "El cociente de la division 16 / 5  es:  3\n"
     ]
    }
   ],
   "source": [
    "print (\"El cociente de la division\", dividendo, \"/\", divisor, \" es: \", cociente)"
   ]
  },
  {
   "cell_type": "code",
   "execution_count": 34,
   "id": "aa5ce340",
   "metadata": {},
   "outputs": [
    {
     "name": "stdout",
     "output_type": "stream",
     "text": [
      "El resto de la division 16 / 5  es:  1\n"
     ]
    }
   ],
   "source": [
    "print (\"El resto de la division\", dividendo, \"/\", divisor, \" es: \", resto)"
   ]
  },
  {
   "cell_type": "markdown",
   "id": "898d7054",
   "metadata": {},
   "source": [
    "## Ejercico 5 ##"
   ]
  },
  {
   "cell_type": "code",
   "execution_count": 35,
   "id": "ed908eca",
   "metadata": {},
   "outputs": [],
   "source": [
    "import math"
   ]
  },
  {
   "cell_type": "code",
   "execution_count": 55,
   "id": "5d66132f",
   "metadata": {},
   "outputs": [
    {
     "name": "stdout",
     "output_type": "stream",
     "text": [
      "ingrese un número: 9\n"
     ]
    }
   ],
   "source": [
    "num_cuadrado = int (input(\"ingrese un número: \"))"
   ]
  },
  {
   "cell_type": "code",
   "execution_count": 56,
   "id": "fcea8304",
   "metadata": {},
   "outputs": [],
   "source": [
    "numero = math.sqrt(num_cuadrado)"
   ]
  },
  {
   "cell_type": "code",
   "execution_count": 57,
   "id": "c8d2d91e",
   "metadata": {},
   "outputs": [],
   "source": [
    "decimal, entero = math.modf (numero)"
   ]
  },
  {
   "cell_type": "code",
   "execution_count": 58,
   "id": "affeceeb",
   "metadata": {},
   "outputs": [
    {
     "data": {
      "text/plain": [
       "0.0"
      ]
     },
     "execution_count": 58,
     "metadata": {},
     "output_type": "execute_result"
    }
   ],
   "source": [
    "decimal"
   ]
  },
  {
   "cell_type": "code",
   "execution_count": 59,
   "id": "a4dadd1c",
   "metadata": {},
   "outputs": [
    {
     "name": "stdout",
     "output_type": "stream",
     "text": [
      "Es cuadrado perfecto\n"
     ]
    }
   ],
   "source": [
    "if decimal == 0:\n",
    "    print(\"Es cuadrado perfecto\")\n",
    "else:\n",
    "    print(\"No es cuadrado perfecto\")"
   ]
  },
  {
   "cell_type": "markdown",
   "id": "40ea7c25",
   "metadata": {},
   "source": [
    "## Ejercicio 6 ##"
   ]
  },
  {
   "cell_type": "code",
   "execution_count": 147,
   "id": "4b35d3d6",
   "metadata": {},
   "outputs": [],
   "source": [
    "import math"
   ]
  },
  {
   "cell_type": "code",
   "execution_count": 161,
   "id": "a4e6f9ca",
   "metadata": {},
   "outputs": [
    {
     "name": "stdout",
     "output_type": "stream",
     "text": [
      "Ingrese el número: 2021\n"
     ]
    }
   ],
   "source": [
    "numero_ingresado = int(input(\"Ingrese el número: \"))"
   ]
  },
  {
   "cell_type": "code",
   "execution_count": 162,
   "id": "d4eb5b8d",
   "metadata": {},
   "outputs": [],
   "source": [
    "div4 = numero_ingresado % 4"
   ]
  },
  {
   "cell_type": "code",
   "execution_count": 163,
   "id": "9c46b005",
   "metadata": {},
   "outputs": [],
   "source": [
    "div100 = numero_ingresado % 100"
   ]
  },
  {
   "cell_type": "code",
   "execution_count": 164,
   "id": "ab6dd4dc",
   "metadata": {},
   "outputs": [],
   "source": [
    "div400 = numero_ingresado % 400"
   ]
  },
  {
   "cell_type": "code",
   "execution_count": 165,
   "id": "79acab85",
   "metadata": {},
   "outputs": [
    {
     "name": "stdout",
     "output_type": "stream",
     "text": [
      "No es año biciesto\n"
     ]
    }
   ],
   "source": [
    "if div4 == 0:\n",
    "    if div400 == 0:\n",
    "        print(\"Año biciesto\")\n",
    "    elif div100 == 0:\n",
    "        print(\"No es año biciesto\")\n",
    "    else:\n",
    "        print(\"Año biciesto\")\n",
    "else:\n",
    "    print(\"No es año biciesto\")\n"
   ]
  },
  {
   "cell_type": "markdown",
   "id": "010c2018",
   "metadata": {},
   "source": [
    "## Ejercicio 7 ##"
   ]
  },
  {
   "cell_type": "code",
   "execution_count": 25,
   "id": "06581ecb",
   "metadata": {},
   "outputs": [],
   "source": [
    "filas = [1, 2, 3, 4, 5, 6, 7, 8]"
   ]
  },
  {
   "cell_type": "code",
   "execution_count": 26,
   "id": "6f60a987",
   "metadata": {},
   "outputs": [],
   "source": [
    "columnas = [\"a\", \"b\", \"c\", \"d\", \"e\", \"f\", \"g\", \"h\"]"
   ]
  },
  {
   "cell_type": "code",
   "execution_count": 44,
   "id": "874bc836",
   "metadata": {},
   "outputs": [
    {
     "name": "stdout",
     "output_type": "stream",
     "text": [
      "Ingrese un número: 9\n",
      "Ingrese una letra: a\n"
     ]
    }
   ],
   "source": [
    "numero = int(input(\"Ingrese un número: \"))\n",
    "letra = input(\"Ingrese una letra: \")"
   ]
  },
  {
   "cell_type": "code",
   "execution_count": 45,
   "id": "2e01a43a",
   "metadata": {},
   "outputs": [
    {
     "name": "stdout",
     "output_type": "stream",
     "text": [
      "Datos más ingresados\n"
     ]
    }
   ],
   "source": [
    "if numero in filas and letra in columnas:\n",
    "    aux_letra = columnas.index(letra) + 1\n",
    "    if numero % 2 != 0:\n",
    "        if aux_letra % 2 != 0:\n",
    "            print (\"La casilla es Negra\")\n",
    "        else:\n",
    "            print (\"La casilla es Blanca\")\n",
    "    else:\n",
    "        if aux_letra % 2 == 0:\n",
    "            print (\"La casilla es Negra\")\n",
    "        else:\n",
    "            print (\"La casilla es Blanca\")\n",
    "else:\n",
    "    print (\"Datos más ingresados\")"
   ]
  },
  {
   "cell_type": "markdown",
   "id": "24766ac1",
   "metadata": {},
   "source": [
    "# RESPUESTAS PROFESOR #"
   ]
  },
  {
   "cell_type": "markdown",
   "id": "a421caf1",
   "metadata": {},
   "source": [
    "## EJERCICIO 5"
   ]
  },
  {
   "cell_type": "code",
   "execution_count": 57,
   "id": "76885f87",
   "metadata": {},
   "outputs": [
    {
     "name": "stdout",
     "output_type": "stream",
     "text": [
      "Escribe un número: 3\n",
      "El número no es cuadrado perfecto\n"
     ]
    }
   ],
   "source": [
    "import numpy as np\n",
    "\n",
    "numero = float(input(\"Escribe un número: \"))\n",
    "d1 = np.sqrt(numero)\n",
    "d2 = int(np.sqrt(numero))\n",
    "\n",
    "if d1 - d2 == 0:\n",
    "    print(\"El número es un cuadrado perfecto\")\n",
    "else:\n",
    "    print(\"El número no es cuadrado perfecto\")"
   ]
  },
  {
   "cell_type": "markdown",
   "id": "5a79c265",
   "metadata": {},
   "source": [
    "## EJERCICIO 7 ##"
   ]
  },
  {
   "cell_type": "code",
   "execution_count": 52,
   "id": "cfb7de1c",
   "metadata": {},
   "outputs": [
    {
     "name": "stdout",
     "output_type": "stream",
     "text": [
      "Introduce la Casilla (ej: A1): B4\n",
      "Negro\n"
     ]
    }
   ],
   "source": [
    "entrada = input(\"Introduce la Casilla (ej: A1): \")\n",
    "letras = {\"A\": 1, \"B\": 2, \"C\": 3, \"D\": 4, \"E\": 5, \"F\": 6, \"G\": 7, \"H\": 8}\n",
    "letra = entrada[0]\n",
    "numero1 = int(entrada[1])\n",
    "numero2 = letras[letra]\n",
    "if (numero1 + numero2) % 2 == 0:\n",
    "    print(\"Negro\")\n",
    "else:\n",
    "    print(\"Blanco\")"
   ]
  },
  {
   "cell_type": "code",
   "execution_count": 53,
   "id": "4832b0c6",
   "metadata": {},
   "outputs": [
    {
     "name": "stdout",
     "output_type": "stream",
     "text": [
      "{'A': 1, 'B': 2, 'C': 3, 'D': 4, 'E': 5, 'F': 6, 'G': 7, 'H': 8}\n"
     ]
    }
   ],
   "source": [
    "\n"
   ]
  },
  {
   "cell_type": "code",
   "execution_count": 54,
   "id": "fc742d5b",
   "metadata": {},
   "outputs": [
    {
     "name": "stdout",
     "output_type": "stream",
     "text": [
      "B\n"
     ]
    }
   ],
   "source": []
  },
  {
   "cell_type": "code",
   "execution_count": 55,
   "id": "0fdcaed5",
   "metadata": {},
   "outputs": [
    {
     "name": "stdout",
     "output_type": "stream",
     "text": [
      "4\n",
      "2\n"
     ]
    }
   ],
   "source": []
  },
  {
   "cell_type": "code",
   "execution_count": null,
   "id": "0a350738",
   "metadata": {},
   "outputs": [],
   "source": []
  }
 ],
 "metadata": {
  "kernelspec": {
   "display_name": "Python 3 (ipykernel)",
   "language": "python",
   "name": "python3"
  },
  "language_info": {
   "codemirror_mode": {
    "name": "ipython",
    "version": 3
   },
   "file_extension": ".py",
   "mimetype": "text/x-python",
   "name": "python",
   "nbconvert_exporter": "python",
   "pygments_lexer": "ipython3",
   "version": "3.9.7"
  }
 },
 "nbformat": 4,
 "nbformat_minor": 5
}
